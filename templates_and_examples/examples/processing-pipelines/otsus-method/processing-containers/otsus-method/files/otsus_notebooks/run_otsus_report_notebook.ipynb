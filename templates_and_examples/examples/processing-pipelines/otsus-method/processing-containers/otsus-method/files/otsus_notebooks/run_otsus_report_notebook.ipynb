{
 "cells": [
  {
   "cell_type": "code",
   "execution_count": null,
   "id": "88a34a3f-1761-41b7-a69a-d12cb20d6e95",
   "metadata": {},
   "outputs": [],
   "source": [
    "import os\n",
    "import glob\n",
    "from pathlib import Path\n",
    "import SimpleITK as sitk\n",
    "# import nibabel as nib\n",
    "import numpy as np\n",
    "import matplotlib.pyplot as plt"
   ]
  },
  {
   "cell_type": "markdown",
   "id": "3817256a-3a1b-496c-beed-daf9e1c7d182",
   "metadata": {},
   "source": [
    "# Visualizations of images"
   ]
  },
  {
   "cell_type": "code",
   "execution_count": null,
   "id": "d5bea737-899d-41a3-a8ec-28d76a3b5d1d",
   "metadata": {},
   "outputs": [],
   "source": [
    "batch_folders = sorted([f for f in glob.glob(os.path.join('/', os.environ['WORKFLOW_DIR'], os.environ['BATCH_NAME'], '*'))])\n",
    "\n",
    "for batch_element_dir in batch_folders:\n",
    "\n",
    "    element_input_dir = os.path.join(batch_element_dir, os.environ['OPERATOR_IN_DIR'])\n",
    "    element_output_dir = os.path.join(batch_element_dir, os.environ['OPERATOR_OUT_DIR'])\n",
    "\n",
    "    if not os.path.exists(element_output_dir):\n",
    "        os.makedirs(element_output_dir)\n",
    "\n",
    "\n",
    "    nddr_files = sorted(glob.glob(os.path.join(element_input_dir, \"*.nrrd\"), recursive=True))\n",
    "\n",
    "    if len(nddr_files) == 0:\n",
    "        print(\"No nrrd file found!\")\n",
    "        exit(1)\n",
    "    else:\n",
    "        for file in nddr_files:\n",
    "            print((\"Applying Otsus method to: %s\" % file))\n",
    "\n",
    "            ### Load image\n",
    "            img = sitk.ReadImage(file)\n",
    "\n",
    "            z = img.GetSize()[2]\n",
    "            nda = sitk.GetArrayFromImage(img)\n",
    "            nda_slice = nda[:, :, int(z/2)]\n",
    "\n",
    "            # display the slice\n",
    "            plt.imshow(nda_slice)\n",
    "            plt.show()\n"
   ]
  }
 ],
 "metadata": {
  "kernelspec": {
   "display_name": "kaapana-venv",
   "language": "python",
   "name": "python3"
  },
  "language_info": {
   "codemirror_mode": {
    "name": "ipython",
    "version": 3
   },
   "file_extension": ".py",
   "mimetype": "text/x-python",
   "name": "python",
   "nbconvert_exporter": "python",
   "pygments_lexer": "ipython3",
   "version": "3.8.10 (default, Mar 15 2022, 12:22:08) \n[GCC 9.4.0]"
  },
  "vscode": {
   "interpreter": {
    "hash": "4e29a91940ee7feabbc4958f4d0059fed19524df8c0a80d2d55f4c5325b75cae"
   }
  }
 },
 "nbformat": 4,
 "nbformat_minor": 5
}
